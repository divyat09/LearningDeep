{
 "cells": [
  {
   "cell_type": "markdown",
   "metadata": {},
   "source": [
    "## core-tutorials\n",
    "This notebook is based on the standard python-tensorflow tutorial provided on https://www.tensorflow.org/get_started/get_started"
   ]
  },
  {
   "cell_type": "code",
   "execution_count": 1,
   "metadata": {},
   "outputs": [],
   "source": [
    "# Imports\n",
    "import tensorflow as tf"
   ]
  },
  {
   "cell_type": "code",
   "execution_count": 2,
   "metadata": {},
   "outputs": [
    {
     "name": "stdout",
     "output_type": "stream",
     "text": [
      "(<tf.Tensor 'Const:0' shape=() dtype=float32>, <tf.Tensor 'Const_1:0' shape=() dtype=float32>)\n"
     ]
    }
   ],
   "source": [
    "# Creating Computation Graphs\n",
    "node1 = tf.constant (3.0, dtype=tf.float32)\n",
    "node2 = tf.constant (4.0)\n",
    "print (node1, node2)"
   ]
  },
  {
   "cell_type": "markdown",
   "metadata": {},
   "source": [
    "#### Comments on the Computation Graph\n",
    "* The computation Graphs consists of nodes which on **evaluation** lead to the \"execution\" sort of for that node.\n",
    "* Many types of these nodes, one of them is constant which on evaluation, produces the value stored in it.\n",
    "* A Tensor can only be evaluated from inside a session, which is dealt with below"
   ]
  },
  {
   "cell_type": "code",
   "execution_count": 7,
   "metadata": {},
   "outputs": [
    {
     "name": "stdout",
     "output_type": "stream",
     "text": [
      "[3.0, 4.0]\n"
     ]
    }
   ],
   "source": [
    "sess = tf.Session()\n",
    "print (sess.run ([node1, node2]))"
   ]
  }
 ],
 "metadata": {
  "kernelspec": {
   "display_name": "tensorflow",
   "language": "python",
   "name": "tensorflow"
  },
  "language_info": {
   "codemirror_mode": {
    "name": "ipython",
    "version": 2
   },
   "file_extension": ".py",
   "mimetype": "text/x-python",
   "name": "python",
   "nbconvert_exporter": "python",
   "pygments_lexer": "ipython2",
   "version": "2.7.12"
  }
 },
 "nbformat": 4,
 "nbformat_minor": 2
}
