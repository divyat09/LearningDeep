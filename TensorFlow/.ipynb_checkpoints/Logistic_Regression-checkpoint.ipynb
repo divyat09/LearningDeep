{
 "cells": [
  {
   "cell_type": "code",
   "execution_count": null,
   "metadata": {},
   "outputs": [],
   "source": [
    "import tensorflow as tf\n",
    "import numpy as np\n",
    "\n",
    "# Training Data\n",
    "X= []\n",
    "y= []  # Labels\n",
    "\n",
    "with open(\"DataSet.txt\") as f:\n",
    "    Data = f.readlines()\n",
    "\n",
    "# Loading Data\n",
    "for item in Data:\n",
    "    \n",
    "    item = item.replace(\"\\n\",\"\")\n",
    "    DataPoint = []\n",
    "    DataPoint.append( float(item.split(\"\\t\")[0]) )\n",
    "    DataPoint.append( float(item.split(\"\\t\")[1]) )\n",
    "    \n",
    "    X.append(DataPoint)\n",
    "    y.append( int(item.split(\"\\t\")[2]) )\n",
    "\n",
    "X = np.array(X)\n",
    "y = np.array(y)"
   ]
  },
  {
   "cell_type": "markdown",
   "metadata": {},
   "source": [
    "Some points regarding Tensor Flow Variables\n",
    "\n",
    "1 initialiser is accepted if you define variables as tf.get_variable() but Not with tf.Variable()\n",
    "\n",
    "2 a = tf.get_variable( initializer= ..., dtype= ..., name= ... )\n",
    "\n",
    "  First you should execute: sess.run( a.initializer ), Then sess.run(a)\n",
    "\n",
    "3 b is a Variable whose value depends on the Variable a\n",
    "\n",
    "  First evaluate sess.run(a), Then sess.run(b)\n",
    "\n",
    "4 If the shape is not determinable through the initialised value to tf.Variable a\n",
    "\n",
    "  Then executing sess.run(tf.shape(a)) before sess.run(a) would result in error.\n",
    "  \n",
    "  Hence, If c = tf.get_variable( initializer = a + b, ..... ) Then even if you know shapes of a and b, you dont know the    \n",
    "  shape of c before executing variable c"
   ]
  },
  {
   "cell_type": "code",
   "execution_count": null,
   "metadata": {},
   "outputs": [],
   "source": [
    "# Defining Variables....Note you have to mention trainable = True in W\n",
    "# Else it wont know which varible is to be updated while minimising the loss function\n",
    "\n",
    "Train_Data = tf.constant(np.array(X), dtype = 'float32', name= \"X\")\n",
    "W = tf.get_variable( initializer= tf.zeros_initializer, shape=(2,1), dtype='float32', trainable=True, name = \"W\" )\n",
    "\n",
    "# Sigmoid Function\n",
    "Dot_pdt = tf.matmul( Train_Data, W )\n",
    "Sigmoid = tf.get_variable( initializer= 1/( 1 + tf.exp(-Dot_pdt)), dtype='float32', name = \"mu\" )\n",
    "\n",
    "# Loss Function\n",
    "Loss_fn = tf.get_variable( initializer = tf.reduce_sum( y*tf.log(Sigmoid) + (1-y)*tf.log(1-Sigmoid) ), dtype='float32', name=\"loss\" )"
   ]
  },
  {
   "cell_type": "code",
   "execution_count": null,
   "metadata": {},
   "outputs": [],
   "source": [
    "# Evaluating\n",
    "sess = tf.Session()\n",
    "\n",
    "print sess.run(tf.shape(Train_Data))\n",
    "print sess.run(tf.shape(W))\n",
    "print sess.run(tf.shape(Dot_pdt))\n",
    "print \"\\n\"\n",
    "\n",
    "sess.run(Train_Data)\n",
    "sess.run(W.initializer)\n",
    "print sess.run(W)\n",
    "print \"\\n\"\n",
    "\n",
    "print sess.run(Dot_pdt)\n",
    "print \"\\n\"\n",
    "\n",
    "sess.run(Sigmoid.initializer)\n",
    "print sess.run(Sigmoid)\n",
    "\n",
    "\n",
    "sess.close()"
   ]
  },
  {
   "cell_type": "code",
   "execution_count": null,
   "metadata": {},
   "outputs": [],
   "source": []
  }
 ],
 "metadata": {
  "anaconda-cloud": {},
  "kernelspec": {
   "display_name": "Python [conda root]",
   "language": "python",
   "name": "conda-root-py"
  },
  "language_info": {
   "codemirror_mode": {
    "name": "ipython",
    "version": 2
   },
   "file_extension": ".py",
   "mimetype": "text/x-python",
   "name": "python",
   "nbconvert_exporter": "python",
   "pygments_lexer": "ipython2",
   "version": "2.7.12"
  }
 },
 "nbformat": 4,
 "nbformat_minor": 1
}
