{
 "cells": [
  {
   "cell_type": "code",
   "execution_count": null,
   "metadata": {
    "collapsed": true
   },
   "outputs": [],
   "source": [
    "import tensorflow as tf\n",
    "import numpy as np"
   ]
  },
  {
   "cell_type": "code",
   "execution_count": null,
   "metadata": {
    "collapsed": false
   },
   "outputs": [],
   "source": [
    "v1 = tf.Variable([12,10,20], dtype=tf.float32, name= 'vector1')\n",
    "v2 = tf.Variable([32,20,10], dtype=tf.float32, name= 'vector1')\n",
    "\n",
    "r1 = tf.multiply(v1, v2, name = 'mul') # Tensor as result of element wise multiplication of v1 and v2\n",
    "r2 = tf.reduce_sum(r1)                 # Sum of elements of a Tensor\n",
    "r3 = tf.tensordot(v1, v2, axes = 1)    # Dot product of 2 1-D Tensors\n",
    "\n",
    "sess = tf.Session()\n",
    "\n",
    "# TO initialise all the Tensor Flow variables you have to initalise them as follows\n",
    "# Without running sess.run(init) any attempt to evalute expressions that use Variables would result in error\n",
    "init = tf.global_variables_initializer()\n",
    "sess.run(init)\n",
    "\n",
    "r1_val = sess.run(r1)\n",
    "r2_val = sess.run(r2)\n",
    "r3_val = sess.run(r3)\n",
    "\n",
    "print r1_val\n",
    "print r2_val\n",
    "print r2_val == r3_val # Dot product along axis 1 is same as sum of tensor pdt for 1-D tensors"
   ]
  },
  {
   "cell_type": "code",
   "execution_count": null,
   "metadata": {
    "collapsed": false
   },
   "outputs": [],
   "source": [
    "# Sigmoid Function for Logistic Regression\n",
    "\n",
    "x = tf.random_normal([10], name = 'x')\n",
    "w = tf.random_normal([10], name = 'w')\n",
    "\n",
    "# Dot Product of tensor along an axis\n",
    "dot_product = tf.tensordot( w, x, axes=1 )\n",
    "\n",
    "# Sigmoid Function\n",
    "sig_x = 1/(1 + tf.exp(-dot_product))\n",
    "\n",
    "# Running the computational graph using a session\n",
    "sess = tf.Session()\n",
    "x_val = sess.run(x)\n",
    "w_val = sess.run(w)\n",
    "dotpdt_val = sess.run(dot_product)\n",
    "sig_val = sess.run(sig_x)\n",
    "\n",
    "print x_val\n",
    "print w_val\n",
    "print dotpdt_val\n",
    "print sig_val\n"
   ]
  },
  {
   "cell_type": "code",
   "execution_count": null,
   "metadata": {
    "collapsed": false
   },
   "outputs": [],
   "source": []
  },
  {
   "cell_type": "code",
   "execution_count": null,
   "metadata": {
    "collapsed": true
   },
   "outputs": [],
   "source": []
  }
 ],
 "metadata": {
  "anaconda-cloud": {},
  "kernelspec": {
   "display_name": "Python [conda root]",
   "language": "python",
   "name": "conda-root-py"
  },
  "language_info": {
   "codemirror_mode": {
    "name": "ipython",
    "version": 2
   },
   "file_extension": ".py",
   "mimetype": "text/x-python",
   "name": "python",
   "nbconvert_exporter": "python",
   "pygments_lexer": "ipython2",
   "version": "2.7.12"
  }
 },
 "nbformat": 4,
 "nbformat_minor": 1
}
